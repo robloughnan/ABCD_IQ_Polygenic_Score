{
 "cells": [
  {
   "cell_type": "markdown",
   "metadata": {},
   "source": [
    "# Libraries"
   ]
  },
  {
   "cell_type": "code",
   "execution_count": 1,
   "metadata": {},
   "outputs": [
    {
     "name": "stderr",
     "output_type": "stream",
     "text": [
      "Loading required package: plyr\n",
      "Loading required package: tableone\n",
      "Loading required package: gamm4\n",
      "Loading required package: Matrix\n",
      "Loading required package: lme4\n",
      "Loading required package: mgcv\n",
      "Loading required package: nlme\n",
      "\n",
      "Attaching package: 'nlme'\n",
      "\n",
      "The following object is masked from 'package:lme4':\n",
      "\n",
      "    lmList\n",
      "\n",
      "This is mgcv 1.8-31. For overview type 'help(\"mgcv-package\")'.\n",
      "This is gamm4 0.2-5\n",
      "\n",
      "Loading required package: MuMIn\n",
      "Registered S3 method overwritten by 'MuMIn':\n",
      "  method         from\n",
      "  predict.merMod lme4\n",
      "Loading required package: ggplot2\n",
      "Registered S3 methods overwritten by 'ggplot2':\n",
      "  method         from \n",
      "  [.quosures     rlang\n",
      "  c.quosures     rlang\n",
      "  print.quosures rlang\n",
      "Loading required package: tidyr\n",
      "\n",
      "Attaching package: 'tidyr'\n",
      "\n",
      "The following object is masked from 'package:Matrix':\n",
      "\n",
      "    expand\n",
      "\n",
      "Loading required package: stringr\n",
      "Loading required package: gridExtra\n",
      "Loading required package: lmtest\n",
      "Loading required package: zoo\n",
      "\n",
      "Attaching package: 'zoo'\n",
      "\n",
      "The following objects are masked from 'package:base':\n",
      "\n",
      "    as.Date, as.Date.numeric\n",
      "\n",
      "\n",
      "Attaching package: 'reshape'\n",
      "\n",
      "The following objects are masked from 'package:tidyr':\n",
      "\n",
      "    expand, smiths\n",
      "\n",
      "The following object is masked from 'package:Matrix':\n",
      "\n",
      "    expand\n",
      "\n",
      "The following objects are masked from 'package:plyr':\n",
      "\n",
      "    rename, round_any\n",
      "\n",
      "Loading required package: boot\n"
     ]
    }
   ],
   "source": [
    "require(plyr)\n",
    "require(tableone)\n",
    "require(gamm4)\n",
    "require(MuMIn)\n",
    "require(ggplot2)\n",
    "require(tidyr)\n",
    "require(stringr)\n",
    "require(gridExtra)\n",
    "require(lmtest)\n",
    "library(reshape)\n",
    "require(boot)"
   ]
  },
  {
   "cell_type": "markdown",
   "metadata": {},
   "source": [
    "# Read Data:\n",
    "\n",
    "- NDA file\n",
    "- Polygenic Scores\n",
    "- Genetic Ancestry Factors\n",
    "- PCs"
   ]
  },
  {
   "cell_type": "code",
   "execution_count": 2,
   "metadata": {},
   "outputs": [],
   "source": [
    "# File paths\n",
    "nda_file = '/path/to/nda/nda2.0.1.Rds'\n",
    "prs_file = '/path/to/prs/merged_prs_scores.tsv'\n",
    "ancestry_file = '/path/to/ancestry/Genetic_Ancestry_Factors.4.txt'\n",
    "pcs_file = '/path/to/pcs/plink2.eigenvec'\n",
    "\n",
    "# Read demographics and assesments\n",
    "df = readRDS(nda_file)\n",
    "df = df[df$eventname=='baseline_year_1_arm_1', ] # Subset on baseline data\n",
    "# Read Polygenic Scores\n",
    "prs = read.table(prs_file, header=TRUE)\n",
    "# Read Genetic Ancestry Factors\n",
    "ancestry = read.table(ancestry_file, header=TRUE)\n",
    "colnames(ancestry)[colnames(ancestry)=='IID'] = 'src_subject_id'\n",
    "# Read PCs\n",
    "pcs = read.table(pcs_file, header=TRUE)\n",
    "colnames(pcs)[colnames(pcs)=='IID'] = 'src_subject_id'"
   ]
  },
  {
   "cell_type": "code",
   "execution_count": 3,
   "metadata": {},
   "outputs": [],
   "source": [
    "# Reformat PRS ids to enable matching with nda file\n",
    "reformat_id <- function(id){\n",
    "    ans = unlist(strsplit(id, 'NDAR_'))[2]\n",
    "    ans = paste0('NDAR_', unlist(strsplit(ans, '_'))[1])\n",
    "    return(ans)\n",
    "}\n",
    "colnames(prs)[1] = 'src_subject_id'\n",
    "# Reformat IDs to have correct congruant format with NDA\n",
    "reformated_rows = lapply(as.character(prs$src_subject_id), reformat_id)\n",
    "prs = prs[!duplicated(reformated_rows),]\n",
    "prs$src_subject_id = reformated_rows[!duplicated(reformated_rows)]\n",
    "# Rename polygenic scores to have suffix '_PS'\n",
    "colnames(prs)[2:dim(prs)[2]] = paste0(colnames(prs)[2:dim(prs)[2]], '_PS')"
   ]
  },
  {
   "cell_type": "markdown",
   "metadata": {},
   "source": [
    "# Join Data Frames Together"
   ]
  },
  {
   "cell_type": "code",
   "execution_count": 4,
   "metadata": {},
   "outputs": [
    {
     "name": "stderr",
     "output_type": "stream",
     "text": [
      "Joining by: src_subject_id\n"
     ]
    }
   ],
   "source": [
    "df = join(df, prs, type='left')\n",
    "df = join(df, ancestry, by='src_subject_id')\n",
    "df = join(df, pcs, by='src_subject_id')"
   ]
  },
  {
   "cell_type": "markdown",
   "metadata": {},
   "source": [
    "# Rename and Reorder Factors"
   ]
  },
  {
   "cell_type": "code",
   "execution_count": 5,
   "metadata": {},
   "outputs": [],
   "source": [
    "# Rename cols\n",
    "colnames(df)[colnames(df) == 'high.educ'] = 'Parent.Educ'\n",
    "colnames(df)[colnames(df) == 'household.income'] = 'Household.Income'\n",
    "colnames(df)[colnames(df) == 'age'] = 'Age'\n",
    "colnames(df)[colnames(df) == 'sex'] = 'Gender'\n",
    "colnames(df)[colnames(df) == 'married'] = 'ParentMarried'\n",
    "# Reorder factors\n",
    "df$Parent.Educ = factor(df$Parent.Educ, levels=c('< HS Diploma','HS Diploma/GED','Some College','Bachelor','Post Graduate Degree'))\n",
    "df$Household.Income = factor(df$Household.Income, levels=c('[<50K]', '[>=50K & <100K]', '[>=100K]'))"
   ]
  },
  {
   "cell_type": "markdown",
   "metadata": {},
   "source": [
    "# Define Model Variables and Report Missingness"
   ]
  },
  {
   "cell_type": "code",
   "execution_count": 6,
   "metadata": {},
   "outputs": [],
   "source": [
    "poly_score = 'IQ_PS'\n",
    "nihtbx_names = colnames(df)[startsWith(colnames(df), 'nihtbx') & endsWith(colnames(df), 'uncorrected')]\n",
    "ancestry_groups = colnames(ancestry)[c(2,4,5)]\n",
    "pc_cols = paste0('PC', seq(10))\n",
    "non_gen_covars = c('Gender', 'ParentMarried', 'Age', 'Parent.Educ', 'Household.Income')\n",
    "covariates = c(non_gen_covars, pc_cols)#, ancestry_groups)\n",
    "covariate_str = paste(covariates, collapse=' + ')\n",
    "ran = '~(1|abcd_site/rel_family_id)'"
   ]
  },
  {
   "cell_type": "code",
   "execution_count": 7,
   "metadata": {},
   "outputs": [
    {
     "name": "stdout",
     "output_type": "stream",
     "text": [
      "[1] \"Number of missing individuals due to missing demographics or NIH_tlbx: 1319\"\n",
      "[1] \"Of which individuals due to missing household income: 1018\"\n",
      "[1] \"Additional number of individuals missing due to missing genetics: 1414\"\n"
     ]
    }
   ],
   "source": [
    "missing_demo_tlbx = rowSums(is.na(df[, c(non_gen_covars, 'abcd_site', 'rel_family_id', nihtbx_names)]))>0\n",
    "print(paste0('Number of missing individuals due to missing demographics or NIH_tlbx: ', toString(sum(missing_demo_tlbx))))\n",
    "missing_household_income = is.na(df[, 'Household.Income'])\n",
    "print(paste0('Of which individuals due to missing household income: ', toString(sum(missing_household_income))))\n",
    "missing_genetics = (rowSums(is.na(df[, c(pc_cols, poly_score)]))>0 & !missing_demo_tlbx)\n",
    "print(paste0('Additional number of individuals missing due to missing genetics: ', toString(sum(missing_genetics))))"
   ]
  },
  {
   "cell_type": "code",
   "execution_count": 8,
   "metadata": {},
   "outputs": [],
   "source": [
    "# Drop missing\n",
    "df = df[rowSums(is.na(df[, c(covariates, poly_score, nihtbx_names, 'abcd_site', 'rel_family_id')]))==0, ]"
   ]
  },
  {
   "cell_type": "markdown",
   "metadata": {},
   "source": [
    "# Print Table 1 Statistics\n",
    "\n",
    "### Table 1 Full Sample"
   ]
  },
  {
   "cell_type": "code",
   "execution_count": 9,
   "metadata": {},
   "outputs": [
    {
     "name": "stdout",
     "output_type": "stream",
     "text": [
      "                                          \n",
      "                                           Overall        \n",
      "  n                                        \"9142\"         \n",
      "  nihtbx_fluidcomp_uncorrected (mean (SD)) \"92.11 (10.47)\"\n",
      "  nihtbx_cryst_uncorrected (mean (SD))     \"86.84 (6.92)\" \n",
      "  Age (mean (SD))                          \"119.04 (7.47)\"\n",
      "  Gender = M (%)                           \"4775 (52.2)\"  \n",
      "  ParentMarried = yes (%)                  \"6436 (70.4)\"  \n",
      "  Parent.Educ (%)                          \"\"             \n",
      "     < HS Diploma                          \"339 (3.7)\"    \n",
      "     HS Diploma/GED                        \"703 (7.7)\"    \n",
      "     Some College                          \"2302 (25.2)\"  \n",
      "     Bachelor                              \"2473 (27.1)\"  \n",
      "     Post Graduate Degree                  \"3325 (36.4)\"  \n",
      "  Household.Income (%)                     \"\"             \n",
      "     [<50K]                                \"2553 (27.9)\"  \n",
      "     [>=50K & <100K]                       \"2627 (28.7)\"  \n",
      "     [>=100K]                              \"3962 (43.3)\"  \n",
      "  race_ethnicity (%)                       \"\"             \n",
      "     White                                 \"5102 (55.9)\"  \n",
      "     Black                                 \"1144 (12.5)\"  \n",
      "     Hispanic                              \"1745 (19.1)\"  \n",
      "     Asian                                 \"195 (2.1)\"    \n",
      "     Other                                 \"946 (10.4)\"   \n"
     ]
    }
   ],
   "source": [
    "varList = c('nihtbx_fluidcomp_uncorrected', 'nihtbx_cryst_uncorrected', 'Age', 'Gender', 'ParentMarried', 'Parent.Educ', 'Household.Income', 'race_ethnicity')\n",
    "ind = rowSums(is.na(df[, c(nihtbx_names, 'abcd_site', 'rel_family_id', covariates, poly_score)]))==0\n",
    "tableone = CreateTableOne(vars = varList, data = df[ind, ])\n",
    "tab1Mat <- print(tableone, exact = \"stage\", quote = FALSE, noSpaces = TRUE, printToggle = FALSE)\n",
    "## Save to a CSV file\n",
    "print(tab1Mat)"
   ]
  },
  {
   "cell_type": "markdown",
   "metadata": {},
   "source": [
    "### Table 1 European Sample"
   ]
  },
  {
   "cell_type": "code",
   "execution_count": 10,
   "metadata": {},
   "outputs": [
    {
     "name": "stdout",
     "output_type": "stream",
     "text": [
      "                                          \n",
      "                                           Overall        \n",
      "  n                                        \"5212\"         \n",
      "  nihtbx_fluidcomp_uncorrected (mean (SD)) \"93.95 (9.61)\" \n",
      "  nihtbx_cryst_uncorrected (mean (SD))     \"88.60 (6.28)\" \n",
      "  Age (mean (SD))                          \"119.19 (7.47)\"\n",
      "  Gender = M (%)                           \"2751 (52.8)\"  \n",
      "  ParentMarried = yes (%)                  \"4325 (83.0)\"  \n",
      "  Parent.Educ (%)                          \"\"             \n",
      "     < HS Diploma                          \"21 (0.4)\"     \n",
      "     HS Diploma/GED                        \"150 (2.9)\"    \n",
      "     Some College                          \"966 (18.5)\"   \n",
      "     Bachelor                              \"1649 (31.6)\"  \n",
      "     Post Graduate Degree                  \"2426 (46.5)\"  \n",
      "  Household.Income (%)                     \"\"             \n",
      "     [<50K]                                \"643 (12.3)\"   \n",
      "     [>=50K & <100K]                       \"1587 (30.4)\"  \n",
      "     [>=100K]                              \"2982 (57.2)\"  \n",
      "  race_ethnicity (%)                       \"\"             \n",
      "     White                                 \"4944 (95.0)\"  \n",
      "     Black                                 \"1 (0.0)\"      \n",
      "     Hispanic                              \"136 (2.6)\"    \n",
      "     Asian                                 \"0 (0.0)\"      \n",
      "     Other                                 \"125 (2.4)\"    \n"
     ]
    }
   ],
   "source": [
    "EUR_ind = df$EUR > 0.9\n",
    "varList = c('nihtbx_fluidcomp_uncorrected', 'nihtbx_cryst_uncorrected', 'Age', 'Gender', 'ParentMarried', 'Parent.Educ', 'Household.Income', 'race_ethnicity')\n",
    "ind = rowSums(is.na(df[, c(nihtbx_names, 'abcd_site', 'rel_family_id', covariates, poly_score)]))==0\n",
    "tableone = CreateTableOne(vars = varList, data = df[ind & EUR_ind, ])\n",
    "tab1Mat <- print(tableone, exact = \"stage\", quote = FALSE, noSpaces = TRUE, printToggle = FALSE)\n",
    "## Save to a CSV file\n",
    "print(tab1Mat)"
   ]
  },
  {
   "cell_type": "markdown",
   "metadata": {},
   "source": [
    "### Table 1 Non-European Sample"
   ]
  },
  {
   "cell_type": "code",
   "execution_count": 11,
   "metadata": {},
   "outputs": [
    {
     "name": "stdout",
     "output_type": "stream",
     "text": [
      "                                          \n",
      "                                           Overall        \n",
      "  n                                        \"3930\"         \n",
      "  nihtbx_fluidcomp_uncorrected (mean (SD)) \"89.67 (11.05)\"\n",
      "  nihtbx_cryst_uncorrected (mean (SD))     \"84.50 (7.03)\" \n",
      "  Age (mean (SD))                          \"118.84 (7.46)\"\n",
      "  Gender = M (%)                           \"2024 (51.5)\"  \n",
      "  ParentMarried = yes (%)                  \"2111 (53.7)\"  \n",
      "  Parent.Educ (%)                          \"\"             \n",
      "     < HS Diploma                          \"318 (8.1)\"    \n",
      "     HS Diploma/GED                        \"553 (14.1)\"   \n",
      "     Some College                          \"1336 (34.0)\"  \n",
      "     Bachelor                              \"824 (21.0)\"   \n",
      "     Post Graduate Degree                  \"899 (22.9)\"   \n",
      "  Household.Income (%)                     \"\"             \n",
      "     [<50K]                                \"1910 (48.6)\"  \n",
      "     [>=50K & <100K]                       \"1040 (26.5)\"  \n",
      "     [>=100K]                              \"980 (24.9)\"   \n",
      "  race_ethnicity (%)                       \"\"             \n",
      "     White                                 \"158 (4.0)\"    \n",
      "     Black                                 \"1143 (29.1)\"  \n",
      "     Hispanic                              \"1609 (41.0)\"  \n",
      "     Asian                                 \"195 (5.0)\"    \n",
      "     Other                                 \"821 (20.9)\"   \n"
     ]
    }
   ],
   "source": [
    "nonEUR_ind = df$EUR < 0.9\n",
    "varList = c('nihtbx_fluidcomp_uncorrected', 'nihtbx_cryst_uncorrected', 'Age', 'Gender', 'ParentMarried', 'Parent.Educ', 'Household.Income', 'race_ethnicity')\n",
    "ind = rowSums(is.na(df[, c(nihtbx_names, 'abcd_site', 'rel_family_id', covariates, poly_score)]))==0\n",
    "tableone = CreateTableOne(vars = varList, data = df[ind & nonEUR_ind, ])\n",
    "tab1Mat <- print(tableone, exact = \"stage\", quote = FALSE, noSpaces = TRUE, printToggle = FALSE)\n",
    "## Save to a CSV file\n",
    "print(tab1Mat)"
   ]
  },
  {
   "cell_type": "markdown",
   "metadata": {},
   "source": [
    "# Z score Continuous Variables"
   ]
  },
  {
   "cell_type": "code",
   "execution_count": 12,
   "metadata": {},
   "outputs": [],
   "source": [
    "df[, c(nihtbx_names, pc_cols, poly_score, 'Age')] = scale(df[, c(nihtbx_names, pc_cols, poly_score, 'Age')])"
   ]
  },
  {
   "cell_type": "code",
   "execution_count": 13,
   "metadata": {},
   "outputs": [],
   "source": [
    "model_table = data.frame(dependant_var=rep(nihtbx_names, length(poly_score)), \n",
    "           prs=rep(poly_score, each=length(nihtbx_names)))\n",
    "model_table$full = paste0(model_table$dependant_var, ' ~ ', model_table$prs, ' + ', covariate_str)\n",
    "model_table$reduced = paste0(model_table$dependant_var, ' ~ ', covariate_str)"
   ]
  },
  {
   "cell_type": "code",
   "execution_count": 14,
   "metadata": {},
   "outputs": [],
   "source": [
    "gamm4_link = function(form, random, dat=df){\n",
    "    return <- gamm4(formula=formula(form), random=formula(random), data=dat)\n",
    "}\n",
    "\n",
    "fit_gamm_models = function(dat, model_table, suffix, return_full_models=FALSE){\n",
    "    full_models = mapply(gamm4_link, form=model_table$full, MoreArgs=list(random=formula(ran), dat=dat))\n",
    "    if (return_full_models){\n",
    "        return(full_models)\n",
    "    }\n",
    "    reduced_models = mapply(gamm4_link, form=model_table$reduced, MoreArgs=list(random=formula(ran), dat=dat))\n",
    "    \n",
    "    # Extract results\n",
    "    for (i in 1:dim(model_table)[1]){\n",
    "        dep_var = unlist(strsplit(toString(full_models[,i]$gam$formula), ', '))[2]\n",
    "        ind = model_table$dependant_var %in% dep_var\n",
    "        model_table[ind, paste0('PS_coeff', suffix)] = as.numeric(summary(full_models[,i]$gam)$p.coeff[2])\n",
    "        model_table[ind, paste0('PS_coeff_SE', suffix)] = as.numeric(summary(full_models[,i]$gam)$se[2])\n",
    "        model_table[ind, paste0('upper', suffix)] = as.numeric(summary(full_models[,i]$gam)$p.coeff[2]) + 1.96*as.numeric(summary(full_models[,i]$gam)$se[2])\n",
    "        model_table[ind, paste0('lower', suffix)] = as.numeric(summary(full_models[,i]$gam)$p.coeff[2]) - 1.96*as.numeric(summary(full_models[,i]$gam)$se[2])\n",
    "        model_table[ind, paste0('t', suffix)] = as.numeric(summary(full_models[,i]$gam)$p.t[2])\n",
    "        model_table[ind, paste0('pval', suffix)] = summary(full_models[,i]$gam)$p.pv[[2]]\n",
    "        model_table[ind, paste0('r2_delta', suffix)] = r.squaredLR(full_models[,i]$mer, reduced_models[,i]$mer)\n",
    "        # Likelihood ratio test\n",
    "        lrttest_table = anova(full_models[,i]$mer, reduced_models[,i]$mer)\n",
    "        model_table[ind, paste0('lrt_chisq', suffix)] = lrttest_table['full_models[, i]$mer', 'Chisq']\n",
    "        model_table[ind, paste0('lrt_pval', suffix)] = lrttest_table['full_models[, i]$mer', 'Pr(>Chisq)']\n",
    "        model_table[ind, paste0('n_full', suffix)] = length(full_models[,i]$gam$residuals)\n",
    "        model_table[ind, paste0('n_reduced', suffix)] = length(reduced_models[,i]$gam$residuals)\n",
    "    }\n",
    "    return (model_table)\n",
    "}"
   ]
  },
  {
   "cell_type": "markdown",
   "metadata": {},
   "source": [
    "# Fit Models"
   ]
  },
  {
   "cell_type": "code",
   "execution_count": 15,
   "metadata": {},
   "outputs": [
    {
     "name": "stderr",
     "output_type": "stream",
     "text": [
      "refitting model(s) with ML (instead of REML)\n",
      "refitting model(s) with ML (instead of REML)\n",
      "refitting model(s) with ML (instead of REML)\n",
      "refitting model(s) with ML (instead of REML)\n",
      "refitting model(s) with ML (instead of REML)\n",
      "refitting model(s) with ML (instead of REML)\n",
      "refitting model(s) with ML (instead of REML)\n",
      "refitting model(s) with ML (instead of REML)\n",
      "refitting model(s) with ML (instead of REML)\n",
      "refitting model(s) with ML (instead of REML)\n"
     ]
    }
   ],
   "source": [
    "model_table = fit_gamm_models(dat=df, model_table=model_table, suffix='_full_samp')"
   ]
  },
  {
   "cell_type": "code",
   "execution_count": 16,
   "metadata": {},
   "outputs": [],
   "source": [
    "# Remove total composite from table\n",
    "ind = model_table$dependant_var %in% 'nihtbx_totalcomp_uncorrected'\n",
    "model_table = model_table[!ind, ]"
   ]
  },
  {
   "cell_type": "code",
   "execution_count": 17,
   "metadata": {},
   "outputs": [],
   "source": [
    "# Clean name and ordering of measures for plotting\n",
    "simpleCap <- function(s) {paste(toupper(substring(s, 1,1)), substring(s, 2), sep=\"\", collapse=\" \")}\n",
    "dep_var_nice_name = gsub('_uncorrected', '', gsub('nihtbx_', '', as.character(model_table$dependant_var)))\n",
    "dep_var_nice_name = sapply(dep_var_nice_name, simpleCap)\n",
    "dep_var_nice_name[dep_var_nice_name=='Picvocab'] = 'Picture Vocabulary'\n",
    "dep_var_nice_name[dep_var_nice_name=='Fluidcomp'] = 'Fluid Composite'\n",
    "dep_var_nice_name[dep_var_nice_name=='Cryst'] = 'Crystallized Composite'\n",
    "ordering = c('Pattern', 'Picture', 'List', 'Flanker', 'Cardsort', 'Picture Vocabulary', 'Reading', 'Fluid Composite', 'Crystallized Composite')\n",
    "model_table$dependant_var_nice_name = factor(dep_var_nice_name, levels=ordering)"
   ]
  },
  {
   "cell_type": "code",
   "execution_count": 18,
   "metadata": {},
   "outputs": [],
   "source": [
    "# sort table to be ordered by crytalized and fluid\n",
    "model_table = with(model_table, model_table[order(dependant_var_nice_name),])\n",
    "model_table$pos = seq(1:dim(model_table)[1])"
   ]
  },
  {
   "cell_type": "code",
   "execution_count": 19,
   "metadata": {},
   "outputs": [],
   "source": [
    "model_table$Composite = c(rep('Fluid',5), rep('Crystallized',2), 'Fluid', 'Crystallized')"
   ]
  },
  {
   "cell_type": "code",
   "execution_count": 20,
   "metadata": {},
   "outputs": [],
   "source": [
    "# Seperate composite scores from individual measures\n",
    "model_table$pos[(dim(model_table)[1]-1):dim(model_table)[1]] = model_table$pos[(dim(model_table)[1]-1):dim(model_table)[1]] + 1.20"
   ]
  },
  {
   "cell_type": "code",
   "execution_count": 21,
   "metadata": {},
   "outputs": [],
   "source": [
    "row.names(model_table) = model_table$dependant_var"
   ]
  },
  {
   "cell_type": "markdown",
   "metadata": {},
   "source": [
    "# Create figure 1 - Using Full Sample"
   ]
  },
  {
   "cell_type": "code",
   "execution_count": 22,
   "metadata": {},
   "outputs": [],
   "source": [
    "across_toolbox_plot = function(model_table, sample_suffix, asterix_height, number_of_aterix, asterix_size, title, legend){\n",
    "#     options(repr.plot.width=6, repr.plot.height=4)\n",
    "    coeff_name = paste0(\"PS_coeff\", sample_suffix)\n",
    "    upper_col = paste0(\"upper\", sample_suffix)\n",
    "    lower_col = paste0(\"lower\", sample_suffix)\n",
    "    n = model_table['nihtbx_fluidcomp_uncorrected', paste0('n_full', sample_suffix)]\n",
    "    title = paste0(title, ' \\n(N=', n, ')')\n",
    "    # Option for if legend is or isn't included\n",
    "    if (legend){\n",
    "       theme = theme(text = element_text(size=10), axis.text.x = element_text(angle = 45, hjust = 1), \n",
    "          legend.position = c(.05, .95),\n",
    "    legend.justification = c(\"left\", \"top\"),\n",
    "    legend.box.just = \"right\",\n",
    "    legend.box.background = element_rect(colour = \"black\"),\n",
    "    legend.margin = margin(4, 5, 4, 5),\n",
    "     legend.title=element_text(size=8), \n",
    "    legend.text=element_text(size=8), legend.key.size = unit(.7,\"line\")) \n",
    "    }else{\n",
    "        theme = theme(text = element_text(size=10), axis.text.x = element_text(angle = 45, hjust = 1), \n",
    "          legend.position = \"none\")\n",
    "    }\n",
    "    p = ggplot(data=model_table, aes_string(x=\"pos\", y=coeff_name, fill=\"Composite\") )+\n",
    "      geom_bar(color='black', aes(fill=Composite), stat=\"identity\") + \n",
    "    xlab(\"\") + ylab('Intelligence PS Standardized \\n Regression Coefficient') + labs(title=title) + \n",
    "    geom_errorbar(data=model_table, mapping=aes_string(x=\"pos\", ymin=upper_col, ymax=lower_col), width=0.2, size=1, color=\"blue\") + \n",
    "    scale_x_continuous(labels = as.character(model_table$dependant_var_nice_name), breaks = model_table$pos) +\n",
    "    guides(fill = guide_legend(reverse = TRUE)) + theme_bw() + \n",
    "    theme +  \n",
    "    ylim(NA, 0.75)\n",
    "\n",
    "    # # Add asterix\n",
    "    if (!is.null(asterix_height)){\n",
    "        label.df <- data.frame(pos = sum(model_table[c(8,9), 'pos'])/2, Composite='Fluid')\n",
    "        label.df[, coeff_name] = c(asterix_height)\n",
    "\n",
    "        # Add arc\n",
    "        t <- seq(0, 180, by = 1) * pi / 180\n",
    "        r <- .5\n",
    "        x <- r * cos(t)\n",
    "        y <- r*0.09 * sin(t)-0.02\n",
    "        y[20:162] <- y[20] # Flattens the arc\n",
    "\n",
    "        arc.df <- data.frame(pos = x, coeff = y, Composite='Fluid')\n",
    "        asterix_label = paste(rep(\"*\", number_of_aterix), collapse=\"\")\n",
    "        p = p + geom_line(data = arc.df, aes(pos+label.df$pos, coeff+label.df[, coeff_name]), lty = 1) +\n",
    "        geom_text(data = label.df, label = asterix_label, size=asterix_size)\n",
    "    }\n",
    "    \n",
    "    aspect_ratio=1\n",
    "    return(p)\n",
    "}"
   ]
  },
  {
   "cell_type": "code",
   "execution_count": 23,
   "metadata": {},
   "outputs": [
    {
     "data": {
      "image/png": "[encoded data removed]",
      "text/plain": [
       "plot without title"
      ]
     },
     "metadata": {},
     "output_type": "display_data"
    }
   ],
   "source": [
    "p1 = across_toolbox_plot(model_table, '_full_samp', asterix_height=0.63, number_of_aterix=3, asterix_size=8,\n",
    "                         'Full Sample', legend=TRUE)\n",
    "p1"
   ]
  },
  {
   "cell_type": "markdown",
   "metadata": {},
   "source": [
    "### Perform Analysis in Stratified Samples of Europeans and African Ancestry Only"
   ]
  },
  {
   "cell_type": "code",
   "execution_count": 24,
   "metadata": {},
   "outputs": [
    {
     "name": "stderr",
     "output_type": "stream",
     "text": [
      "refitting model(s) with ML (instead of REML)\n",
      "refitting model(s) with ML (instead of REML)\n",
      "refitting model(s) with ML (instead of REML)\n",
      "refitting model(s) with ML (instead of REML)\n",
      "refitting model(s) with ML (instead of REML)\n",
      "refitting model(s) with ML (instead of REML)\n",
      "refitting model(s) with ML (instead of REML)\n",
      "refitting model(s) with ML (instead of REML)\n",
      "refitting model(s) with ML (instead of REML)\n",
      "refitting model(s) with ML (instead of REML)\n",
      "refitting model(s) with ML (instead of REML)\n",
      "refitting model(s) with ML (instead of REML)\n",
      "refitting model(s) with ML (instead of REML)\n",
      "refitting model(s) with ML (instead of REML)\n",
      "refitting model(s) with ML (instead of REML)\n",
      "refitting model(s) with ML (instead of REML)\n",
      "refitting model(s) with ML (instead of REML)\n",
      "refitting model(s) with ML (instead of REML)\n"
     ]
    }
   ],
   "source": [
    "model_table = fit_gamm_models(df[EUR_ind, ], model_table, '_EUR')\n",
    "model_table = fit_gamm_models(df[nonEUR_ind, ], model_table, '_nonEUR')"
   ]
  },
  {
   "cell_type": "code",
   "execution_count": 26,
   "metadata": {},
   "outputs": [],
   "source": [
    "p2 = across_toolbox_plot(model_table, '_EUR', asterix_height=0.7, number_of_aterix=3, asterix_size=6,\n",
    "                         'Europeans Only', legend=FALSE)\n",
    "p3 = across_toolbox_plot(model_table, '_nonEUR', asterix_height=0.63, number_of_aterix=1, asterix_size=6, \n",
    "                         'Non-Europeans Only', legend=FALSE)"
   ]
  },
  {
   "cell_type": "code",
   "execution_count": 27,
   "metadata": {},
   "outputs": [
    {
     "name": "stderr",
     "output_type": "stream",
     "text": [
      "Saving 6.67 x 6.67 in image\n"
     ]
    },
    {
     "data": {
      "image/png": "[encoded data removed]",
      "text/plain": [
       "plot without title"
      ]
     },
     "metadata": {},
     "output_type": "display_data"
    }
   ],
   "source": [
    "options(repr.plot.width=6, repr.plot.height=6)\n",
    "tot_p = grid.arrange(\n",
    "    p1,\n",
    "    p2,\n",
    "    p3,\n",
    "    heights=c(1.8,1.2),\n",
    "    layout_matrix = rbind(c(1, 1),\n",
    "                        c(2, 3))\n",
    ")\n",
    "# tot_p\n",
    "ggsave('figure_1.pdf', tot_p)"
   ]
  },
  {
   "cell_type": "code",
   "execution_count": 359,
   "metadata": {},
   "outputs": [
    {
     "data": {
      "text/html": [
       "<table>\n",
       "<thead><tr><th></th><th scope=col>PS_coeff_full_samp</th><th scope=col>PS_coeff_SE_full_samp</th><th scope=col>upper_full_samp</th><th scope=col>lower_full_samp</th><th scope=col>t_full_samp</th><th scope=col>pval_full_samp</th><th scope=col>r2_delta_full_samp</th><th scope=col>lrt_chisq_full_samp</th><th scope=col>lrt_pval_full_samp</th><th scope=col>anova_full_samp</th><th scope=col>n_full_full_samp</th><th scope=col>n_reduced_full_samp</th></tr></thead>\n",
       "<tbody>\n",
       "\t<tr><th scope=row>nihtbx_fluidcomp_uncorrected</th><td>0.2901192   </td><td>0.03323114  </td><td>0.3552522   </td><td>0.2249862   </td><td> 8.730342   </td><td>2.987009e-18</td><td>0.00829027  </td><td> 76.10695   </td><td>2.687102e-18</td><td>23          </td><td>9142        </td><td>9142        </td></tr>\n",
       "\t<tr><th scope=row>nihtbx_cryst_uncorrected</th><td>0.5208853   </td><td>0.03049103  </td><td>0.5806477   </td><td>0.4611229   </td><td>17.083229   </td><td>1.976459e-64</td><td>0.03097809  </td><td>287.67974   </td><td>1.592671e-64</td><td>23          </td><td>9142        </td><td>9142        </td></tr>\n",
       "</tbody>\n",
       "</table>\n"
      ],
      "text/latex": [
       "\\begin{tabular}{r|llllllllllll}\n",
       "  & PS\\_coeff\\_full\\_samp & PS\\_coeff\\_SE\\_full\\_samp & upper\\_full\\_samp & lower\\_full\\_samp & t\\_full\\_samp & pval\\_full\\_samp & r2\\_delta\\_full\\_samp & lrt\\_chisq\\_full\\_samp & lrt\\_pval\\_full\\_samp & anova\\_full\\_samp & n\\_full\\_full\\_samp & n\\_reduced\\_full\\_samp\\\\\n",
       "\\hline\n",
       "\tnihtbx\\_fluidcomp\\_uncorrected & 0.2901192    & 0.03323114   & 0.3552522    & 0.2249862    &  8.730342    & 2.987009e-18 & 0.00829027   &  76.10695    & 2.687102e-18 & 23           & 9142         & 9142        \\\\\n",
       "\tnihtbx\\_cryst\\_uncorrected & 0.5208853    & 0.03049103   & 0.5806477    & 0.4611229    & 17.083229    & 1.976459e-64 & 0.03097809   & 287.67974    & 1.592671e-64 & 23           & 9142         & 9142        \\\\\n",
       "\\end{tabular}\n"
      ],
      "text/markdown": [
       "\n",
       "| <!--/--> | PS_coeff_full_samp | PS_coeff_SE_full_samp | upper_full_samp | lower_full_samp | t_full_samp | pval_full_samp | r2_delta_full_samp | lrt_chisq_full_samp | lrt_pval_full_samp | anova_full_samp | n_full_full_samp | n_reduced_full_samp |\n",
       "|---|---|---|---|---|---|---|---|---|---|---|---|---|\n",
       "| nihtbx_fluidcomp_uncorrected | 0.2901192    | 0.03323114   | 0.3552522    | 0.2249862    |  8.730342    | 2.987009e-18 | 0.00829027   |  76.10695    | 2.687102e-18 | 23           | 9142         | 9142         |\n",
       "| nihtbx_cryst_uncorrected | 0.5208853    | 0.03049103   | 0.5806477    | 0.4611229    | 17.083229    | 1.976459e-64 | 0.03097809   | 287.67974    | 1.592671e-64 | 23           | 9142         | 9142         |\n",
       "\n"
      ],
      "text/plain": [
       "                             PS_coeff_full_samp PS_coeff_SE_full_samp\n",
       "nihtbx_fluidcomp_uncorrected 0.2901192          0.03323114           \n",
       "nihtbx_cryst_uncorrected     0.5208853          0.03049103           \n",
       "                             upper_full_samp lower_full_samp t_full_samp\n",
       "nihtbx_fluidcomp_uncorrected 0.3552522       0.2249862        8.730342  \n",
       "nihtbx_cryst_uncorrected     0.5806477       0.4611229       17.083229  \n",
       "                             pval_full_samp r2_delta_full_samp\n",
       "nihtbx_fluidcomp_uncorrected 2.987009e-18   0.00829027        \n",
       "nihtbx_cryst_uncorrected     1.976459e-64   0.03097809        \n",
       "                             lrt_chisq_full_samp lrt_pval_full_samp\n",
       "nihtbx_fluidcomp_uncorrected  76.10695           2.687102e-18      \n",
       "nihtbx_cryst_uncorrected     287.67974           1.592671e-64      \n",
       "                             anova_full_samp n_full_full_samp\n",
       "nihtbx_fluidcomp_uncorrected 23              9142            \n",
       "nihtbx_cryst_uncorrected     23              9142            \n",
       "                             n_reduced_full_samp\n",
       "nihtbx_fluidcomp_uncorrected 9142               \n",
       "nihtbx_cryst_uncorrected     9142               "
      ]
     },
     "metadata": {},
     "output_type": "display_data"
    }
   ],
   "source": [
    "model_table[c(8,9),endsWith(colnames(model_table), 'full_samp')]"
   ]
  },
  {
   "cell_type": "code",
   "execution_count": 358,
   "metadata": {},
   "outputs": [
    {
     "data": {
      "text/html": [
       "<table>\n",
       "<thead><tr><th></th><th scope=col>PS_coeff_EUR</th><th scope=col>PS_coeff_SE_EUR</th><th scope=col>upper_EUR</th><th scope=col>lower_EUR</th><th scope=col>t_EUR</th><th scope=col>pval_EUR</th><th scope=col>r2_delta_EUR</th><th scope=col>lrt_chisq_EUR</th><th scope=col>lrt_pval_EUR</th><th scope=col>anova_EUR</th><th scope=col>...</th><th scope=col>upper_nonEUR</th><th scope=col>lower_nonEUR</th><th scope=col>t_nonEUR</th><th scope=col>pval_nonEUR</th><th scope=col>r2_delta_nonEUR</th><th scope=col>lrt_chisq_nonEUR</th><th scope=col>lrt_pval_nonEUR</th><th scope=col>anova_nonEUR</th><th scope=col>n_full_nonEUR</th><th scope=col>n_reduced_nonEUR</th></tr></thead>\n",
       "<tbody>\n",
       "\t<tr><th scope=row>nihtbx_fluidcomp_uncorrected</th><td>0.3289418   </td><td>0.04041139  </td><td>0.4081481   </td><td>0.2497355   </td><td> 8.139829   </td><td>4.912445e-16</td><td>0.01261010  </td><td> 66.14253   </td><td>4.194659e-16</td><td>23          </td><td>...         </td><td>0.3349023   </td><td>0.1060959   </td><td>3.777676    </td><td>1.606551e-04</td><td>0.003638176 </td><td>14.32607    </td><td>1.537208e-04</td><td>23          </td><td>3930        </td><td>3930        </td></tr>\n",
       "\t<tr><th scope=row>nihtbx_cryst_uncorrected</th><td>0.5882659   </td><td>0.03824715  </td><td>0.6632303   </td><td>0.5133015   </td><td>15.380645   </td><td>3.087765e-52</td><td>0.04352649  </td><td>231.94257   </td><td>2.247543e-52</td><td>23          </td><td>...         </td><td>0.5243532   </td><td>0.3215605   </td><td>8.175790    </td><td>3.931987e-16</td><td>0.016810220 </td><td>66.62619    </td><td>3.281972e-16</td><td>23          </td><td>3930        </td><td>3930        </td></tr>\n",
       "</tbody>\n",
       "</table>\n"
      ],
      "text/latex": [
       "\\begin{tabular}{r|llllllllllllllllllllllll}\n",
       "  & PS\\_coeff\\_EUR & PS\\_coeff\\_SE\\_EUR & upper\\_EUR & lower\\_EUR & t\\_EUR & pval\\_EUR & r2\\_delta\\_EUR & lrt\\_chisq\\_EUR & lrt\\_pval\\_EUR & anova\\_EUR & ... & upper\\_nonEUR & lower\\_nonEUR & t\\_nonEUR & pval\\_nonEUR & r2\\_delta\\_nonEUR & lrt\\_chisq\\_nonEUR & lrt\\_pval\\_nonEUR & anova\\_nonEUR & n\\_full\\_nonEUR & n\\_reduced\\_nonEUR\\\\\n",
       "\\hline\n",
       "\tnihtbx\\_fluidcomp\\_uncorrected & 0.3289418    & 0.04041139   & 0.4081481    & 0.2497355    &  8.139829    & 4.912445e-16 & 0.01261010   &  66.14253    & 4.194659e-16 & 23           & ...          & 0.3349023    & 0.1060959    & 3.777676     & 1.606551e-04 & 0.003638176  & 14.32607     & 1.537208e-04 & 23           & 3930         & 3930        \\\\\n",
       "\tnihtbx\\_cryst\\_uncorrected & 0.5882659    & 0.03824715   & 0.6632303    & 0.5133015    & 15.380645    & 3.087765e-52 & 0.04352649   & 231.94257    & 2.247543e-52 & 23           & ...          & 0.5243532    & 0.3215605    & 8.175790     & 3.931987e-16 & 0.016810220  & 66.62619     & 3.281972e-16 & 23           & 3930         & 3930        \\\\\n",
       "\\end{tabular}\n"
      ],
      "text/markdown": [
       "\n",
       "| <!--/--> | PS_coeff_EUR | PS_coeff_SE_EUR | upper_EUR | lower_EUR | t_EUR | pval_EUR | r2_delta_EUR | lrt_chisq_EUR | lrt_pval_EUR | anova_EUR | ... | upper_nonEUR | lower_nonEUR | t_nonEUR | pval_nonEUR | r2_delta_nonEUR | lrt_chisq_nonEUR | lrt_pval_nonEUR | anova_nonEUR | n_full_nonEUR | n_reduced_nonEUR |\n",
       "|---|---|---|---|---|---|---|---|---|---|---|---|---|---|---|---|---|---|---|---|---|---|\n",
       "| nihtbx_fluidcomp_uncorrected | 0.3289418    | 0.04041139   | 0.4081481    | 0.2497355    |  8.139829    | 4.912445e-16 | 0.01261010   |  66.14253    | 4.194659e-16 | 23           | ...          | 0.3349023    | 0.1060959    | 3.777676     | 1.606551e-04 | 0.003638176  | 14.32607     | 1.537208e-04 | 23           | 3930         | 3930         |\n",
       "| nihtbx_cryst_uncorrected | 0.5882659    | 0.03824715   | 0.6632303    | 0.5133015    | 15.380645    | 3.087765e-52 | 0.04352649   | 231.94257    | 2.247543e-52 | 23           | ...          | 0.5243532    | 0.3215605    | 8.175790     | 3.931987e-16 | 0.016810220  | 66.62619     | 3.281972e-16 | 23           | 3930         | 3930         |\n",
       "\n"
      ],
      "text/plain": [
       "                             PS_coeff_EUR PS_coeff_SE_EUR upper_EUR lower_EUR\n",
       "nihtbx_fluidcomp_uncorrected 0.3289418    0.04041139      0.4081481 0.2497355\n",
       "nihtbx_cryst_uncorrected     0.5882659    0.03824715      0.6632303 0.5133015\n",
       "                             t_EUR     pval_EUR     r2_delta_EUR lrt_chisq_EUR\n",
       "nihtbx_fluidcomp_uncorrected  8.139829 4.912445e-16 0.01261010    66.14253    \n",
       "nihtbx_cryst_uncorrected     15.380645 3.087765e-52 0.04352649   231.94257    \n",
       "                             lrt_pval_EUR anova_EUR ... upper_nonEUR\n",
       "nihtbx_fluidcomp_uncorrected 4.194659e-16 23        ... 0.3349023   \n",
       "nihtbx_cryst_uncorrected     2.247543e-52 23        ... 0.5243532   \n",
       "                             lower_nonEUR t_nonEUR pval_nonEUR  r2_delta_nonEUR\n",
       "nihtbx_fluidcomp_uncorrected 0.1060959    3.777676 1.606551e-04 0.003638176    \n",
       "nihtbx_cryst_uncorrected     0.3215605    8.175790 3.931987e-16 0.016810220    \n",
       "                             lrt_chisq_nonEUR lrt_pval_nonEUR anova_nonEUR\n",
       "nihtbx_fluidcomp_uncorrected 14.32607         1.537208e-04    23          \n",
       "nihtbx_cryst_uncorrected     66.62619         3.281972e-16    23          \n",
       "                             n_full_nonEUR n_reduced_nonEUR\n",
       "nihtbx_fluidcomp_uncorrected 3930          3930            \n",
       "nihtbx_cryst_uncorrected     3930          3930            "
      ]
     },
     "metadata": {},
     "output_type": "display_data"
    }
   ],
   "source": [
    "model_table[c(8,9),endsWith(colnames(model_table), 'EUR')]"
   ]
  },
  {
   "cell_type": "code",
   "execution_count": 365,
   "metadata": {},
   "outputs": [
    {
     "data": {
      "text/html": [
       "<table>\n",
       "<thead><tr><th></th><th scope=col>PS_coeff_nonEUR</th><th scope=col>PS_coeff_SE_nonEUR</th><th scope=col>upper_nonEUR</th><th scope=col>lower_nonEUR</th><th scope=col>t_nonEUR</th><th scope=col>pval_nonEUR</th><th scope=col>r2_delta_nonEUR</th><th scope=col>lrt_chisq_nonEUR</th><th scope=col>lrt_pval_nonEUR</th><th scope=col>anova_nonEUR</th><th scope=col>n_full_nonEUR</th><th scope=col>n_reduced_nonEUR</th></tr></thead>\n",
       "<tbody>\n",
       "\t<tr><th scope=row>nihtbx_fluidcomp_uncorrected</th><td>0.2204991   </td><td>0.05836898  </td><td>0.3349023   </td><td>0.1060959   </td><td>3.777676    </td><td>1.606551e-04</td><td>0.003638176 </td><td>14.32607    </td><td>1.537208e-04</td><td>23          </td><td>3930        </td><td>3930        </td></tr>\n",
       "\t<tr><th scope=row>nihtbx_cryst_uncorrected</th><td>0.4229568   </td><td>0.05173284  </td><td>0.5243532   </td><td>0.3215605   </td><td>8.175790    </td><td>3.931987e-16</td><td>0.016810220 </td><td>66.62619    </td><td>3.281972e-16</td><td>23          </td><td>3930        </td><td>3930        </td></tr>\n",
       "</tbody>\n",
       "</table>\n"
      ],
      "text/latex": [
       "\\begin{tabular}{r|llllllllllll}\n",
       "  & PS\\_coeff\\_nonEUR & PS\\_coeff\\_SE\\_nonEUR & upper\\_nonEUR & lower\\_nonEUR & t\\_nonEUR & pval\\_nonEUR & r2\\_delta\\_nonEUR & lrt\\_chisq\\_nonEUR & lrt\\_pval\\_nonEUR & anova\\_nonEUR & n\\_full\\_nonEUR & n\\_reduced\\_nonEUR\\\\\n",
       "\\hline\n",
       "\tnihtbx\\_fluidcomp\\_uncorrected & 0.2204991    & 0.05836898   & 0.3349023    & 0.1060959    & 3.777676     & 1.606551e-04 & 0.003638176  & 14.32607     & 1.537208e-04 & 23           & 3930         & 3930        \\\\\n",
       "\tnihtbx\\_cryst\\_uncorrected & 0.4229568    & 0.05173284   & 0.5243532    & 0.3215605    & 8.175790     & 3.931987e-16 & 0.016810220  & 66.62619     & 3.281972e-16 & 23           & 3930         & 3930        \\\\\n",
       "\\end{tabular}\n"
      ],
      "text/markdown": [
       "\n",
       "| <!--/--> | PS_coeff_nonEUR | PS_coeff_SE_nonEUR | upper_nonEUR | lower_nonEUR | t_nonEUR | pval_nonEUR | r2_delta_nonEUR | lrt_chisq_nonEUR | lrt_pval_nonEUR | anova_nonEUR | n_full_nonEUR | n_reduced_nonEUR |\n",
       "|---|---|---|---|---|---|---|---|---|---|---|---|---|\n",
       "| nihtbx_fluidcomp_uncorrected | 0.2204991    | 0.05836898   | 0.3349023    | 0.1060959    | 3.777676     | 1.606551e-04 | 0.003638176  | 14.32607     | 1.537208e-04 | 23           | 3930         | 3930         |\n",
       "| nihtbx_cryst_uncorrected | 0.4229568    | 0.05173284   | 0.5243532    | 0.3215605    | 8.175790     | 3.931987e-16 | 0.016810220  | 66.62619     | 3.281972e-16 | 23           | 3930         | 3930         |\n",
       "\n"
      ],
      "text/plain": [
       "                             PS_coeff_nonEUR PS_coeff_SE_nonEUR upper_nonEUR\n",
       "nihtbx_fluidcomp_uncorrected 0.2204991       0.05836898         0.3349023   \n",
       "nihtbx_cryst_uncorrected     0.4229568       0.05173284         0.5243532   \n",
       "                             lower_nonEUR t_nonEUR pval_nonEUR  r2_delta_nonEUR\n",
       "nihtbx_fluidcomp_uncorrected 0.1060959    3.777676 1.606551e-04 0.003638176    \n",
       "nihtbx_cryst_uncorrected     0.3215605    8.175790 3.931987e-16 0.016810220    \n",
       "                             lrt_chisq_nonEUR lrt_pval_nonEUR anova_nonEUR\n",
       "nihtbx_fluidcomp_uncorrected 14.32607         1.537208e-04    23          \n",
       "nihtbx_cryst_uncorrected     66.62619         3.281972e-16    23          \n",
       "                             n_full_nonEUR n_reduced_nonEUR\n",
       "nihtbx_fluidcomp_uncorrected 3930          3930            \n",
       "nihtbx_cryst_uncorrected     3930          3930            "
      ]
     },
     "metadata": {},
     "output_type": "display_data"
    }
   ],
   "source": [
    "model_table[c(8,9),endsWith(colnames(model_table), 'nonEUR')]"
   ]
  },
  {
   "cell_type": "markdown",
   "metadata": {},
   "source": [
    "## Save Full Table of Regression Results from Crystallized and Fluid"
   ]
  },
  {
   "cell_type": "code",
   "execution_count": 137,
   "metadata": {},
   "outputs": [],
   "source": [
    "save_regression_results = function(df, model_table, suffix){\n",
    "    full_models = fit_gamm_models(dat=df, model_table=model_table, suffix=suffix, return_full_models=TRUE)\n",
    "    for (i in seq(1, dim(model_table)[1])){\n",
    "        regression_res = summary(full_models[,i]$gam)\n",
    "        behavior = str_replace(str_replace(model_table[i, 'dependant_var'], 'nihtbx_', ''), '_uncorrected', '')\n",
    "        write.table(regression_res$p.table, paste0(suffix, '_', behavior, '.csv'), quote=FALSE, sep=',', col.names = NA, row.names = TRUE)\n",
    "    }\n",
    "}\n",
    "\n",
    "save_regression_results(df, model_table[c(8,9), ], 'full_samp')\n",
    "save_regression_results(df[EUR_ind,], model_table[c(8,9), ], 'EUR')\n",
    "save_regression_results(df[nonEUR_ind,], model_table[c(8,9), ], 'nonEUR')"
   ]
  },
  {
   "cell_type": "markdown",
   "metadata": {},
   "source": [
    "# Single Plot to Compare Compsite Predictive Power Across Ancestry Strata"
   ]
  },
  {
   "cell_type": "code",
   "execution_count": 129,
   "metadata": {},
   "outputs": [
    {
     "data": {
      "image/png": "[encoded data removed]",
      "text/plain": [
       "plot without title"
      ]
     },
     "metadata": {},
     "output_type": "display_data"
    }
   ],
   "source": [
    "options(repr.plot.width=6, repr.plot.height=3)\n",
    "composite_ind = (model_table$dependant_var == 'nihtbx_fluidcomp_uncorrected') | \n",
    "                (model_table$dependant_var == 'nihtbx_cryst_uncorrected')\n",
    "\n",
    "model_table_long = gather(model_table[composite_ind, ], sample, coeff, PS_coeff_full_samp, PS_coeff_EUR, PS_coeff_nonEUR)\n",
    "model_table_long_SE = gather(model_table[composite_ind, ], sample, SE, PS_coeff_SE_full_samp, PS_coeff_SE_EUR, PS_coeff_SE_nonEUR)\n",
    "model_table_long$SE = model_table_long_SE$SE\n",
    "\n",
    "#Rename vars\n",
    "model_table_long$sample = str_replace(as.character(model_table_long$sample), 'PS_coeff_', '')\n",
    "model_table_long$sample = str_replace(as.character(model_table_long$sample), 'full_samp', 'Full Sample')\n",
    "model_table_long$sample = factor(model_table_long$sample, level=c('Full Sample', 'EUR', 'nonEUR'))\n",
    "model_table_long$dependant_var = str_replace(model_table_long$dependant_var, 'nihtbx_fluidcomp_uncorrected', 'Fluid')\n",
    "model_table_long$dependant_var = str_replace(model_table_long$dependant_var, 'nihtbx_cryst_uncorrected', 'Crystallized')\n",
    "\n",
    "fp = ggplot(data=model_table_long, aes(x=dependant_var, y=coeff, fill=sample) )+\n",
    "  geom_bar(position=\"dodge\", color='black', aes(fill=sample), stat=\"identity\") + \n",
    "geom_errorbar(data=model_table_long, mapping=aes(ymin=coeff-1.96*SE, ymax=coeff+1.96*SE), \n",
    "              position=position_dodge(.9), width=0.2, size=1, color=\"blue\") +\n",
    "xlab(\"Composite\") + ylab('Intelligence PS\\n Standardized Regression Coefficient') + theme_bw() +\n",
    "theme(text = element_text(size=12)) + scale_x_discrete(labels=c(\"1\" = \"Crystallized\", \"2\" = \"Fluid\"))\n",
    "print(fp)\n",
    "# ggsave(file='Figure_2_stratified_composite.pdf', plot=fp, height = 4 , width = 6 * aspect_ratio)"
   ]
  },
  {
   "cell_type": "markdown",
   "metadata": {},
   "source": [
    "# Test Difference Between Coefficients in Two Models\n",
    "\n",
    "We want to show a significant difference in the standardized regression coefficients of Fluid and Crysallized scales. \n",
    "\n",
    "Compute standard error in difference:\n",
    "\n",
    "\n",
    "$$ \\sigma = \\sqrt{\\sigma_a^2 + \\sigma_b^2} $$\n",
    "\n",
    "Then compute z-score for difference using combined standard error.\n",
    "\n",
    "$$ Z = \\frac{\\beta_a - \\beta_b}{\\sigma}$$\n",
    "\n",
    "Here $a$ and $b$ index fluid and crysalized composite scales."
   ]
  },
  {
   "cell_type": "code",
   "execution_count": 327,
   "metadata": {},
   "outputs": [],
   "source": [
    "z_test = function(measure_a, measure_b, sample_a, sample_b, model_table_a, model_table_b=NULL){\n",
    "    if (is.null(model_table_b)){\n",
    "        model_table_b = model_table_a\n",
    "    }\n",
    "    \n",
    "    se_a = model_table_a[measure_a, paste0('PS_coeff_SE_', sample_a)]\n",
    "    se_b = model_table_b[measure_b, paste0('PS_coeff_SE_', sample_b)]\n",
    "\n",
    "    beta_a = model_table_a[measure_a, paste0('PS_coeff_', sample_a)]\n",
    "    beta_b = model_table_b[measure_b, paste0('PS_coeff_', sample_b)]\n",
    "    z_score = (beta_a-beta_b)/sqrt(se_a^2 + se_b^2)\n",
    "    pval = 2*pnorm(-abs(z_score))\n",
    "    \n",
    "    measure_a = str_replace(str_replace(measure_a, 'nihtbx_', ''), '_uncorrected', '')\n",
    "    measure_b = str_replace(str_replace(measure_b, 'nihtbx_', ''), '_uncorrected', '')\n",
    "    cat(sprintf('Difference in regression coefficients for %s and %s p=%.3e (z=%.3f)\\n', measure_a, measure_b, pval, z_score))\n",
    "}"
   ]
  },
  {
   "cell_type": "code",
   "execution_count": 328,
   "metadata": {},
   "outputs": [
    {
     "name": "stdout",
     "output_type": "stream",
     "text": [
      "Full Sample:\tDifference in regression coefficients for fluidcomp and cryst p=3.108e-07 (z=-5.117)\n",
      "European Ancestry:\tDifference in regression coefficients for fluidcomp and cryst p=3.152e-06 (z=-4.661)\n",
      "Admixed Ancestry:\tDifference in regression coefficients for fluidcomp and cryst p=9.438e-03 (z=-2.596)\n"
     ]
    }
   ],
   "source": [
    "cat('Full Sample:\\t')\n",
    "z_test('nihtbx_fluidcomp_uncorrected', 'nihtbx_cryst_uncorrected', 'full_samp', 'full_samp', model_table)\n",
    "cat('European Ancestry:\\t')\n",
    "z_test('nihtbx_fluidcomp_uncorrected', 'nihtbx_cryst_uncorrected', 'EUR', 'EUR', model_table)\n",
    "cat('Admixed Ancestry:\\t')\n",
    "z_test('nihtbx_fluidcomp_uncorrected', 'nihtbx_cryst_uncorrected', 'nonEUR', 'nonEUR', model_table)"
   ]
  },
  {
   "cell_type": "markdown",
   "metadata": {},
   "source": [
    "### Difference in Regression Coefficients Between European and Non-European Samples"
   ]
  },
  {
   "cell_type": "code",
   "execution_count": 370,
   "metadata": {},
   "outputs": [
    {
     "name": "stdout",
     "output_type": "stream",
     "text": [
      "Difference in regression coefficients for pattern and pattern p=5.253e-01 (z=-0.635)\n",
      "Difference in regression coefficients for picture and picture p=1.834e-01 (z=-1.330)\n",
      "Difference in regression coefficients for list and list p=2.278e-01 (z=-1.206)\n",
      "Difference in regression coefficients for flanker and flanker p=1.281e-01 (z=-1.522)\n",
      "Difference in regression coefficients for cardsort and cardsort p=7.953e-01 (z=-0.259)\n",
      "Difference in regression coefficients for picvocab and picvocab p=3.191e-02 (z=-2.145)\n",
      "Difference in regression coefficients for reading and reading p=4.887e-02 (z=-1.970)\n",
      "Difference in regression coefficients for fluidcomp and fluidcomp p=1.266e-01 (z=-1.528)\n",
      "Difference in regression coefficients for cryst and cryst p=1.019e-02 (z=-2.569)\n"
     ]
    }
   ],
   "source": [
    "for (measure in rownames(model_table)){\n",
    "    z_test(measure, measure, 'nonEUR', 'EUR', model_table)\n",
    "}"
   ]
  },
  {
   "cell_type": "markdown",
   "metadata": {},
   "source": [
    "# Total Cortical Area and Mean Thickness Associations"
   ]
  },
  {
   "cell_type": "code",
   "execution_count": 375,
   "metadata": {},
   "outputs": [],
   "source": [
    "cortical_measures = c('smri_area_cort.desikan_total', 'smri_thick_cort.desikan_mean')\n",
    "model_table_cort = data.frame(dependant_var=rep(cortical_measures, length(poly_score)), \n",
    "           prs=rep(poly_score, each=length(cortical_measures)))\n",
    "model_table_cort$full = paste0(model_table_cort$dependant_var, ' ~ ', model_table_cort$prs, ' + ', covariate_str, ' + mri_info_device.serial.number')\n",
    "model_table_cort$reduced = paste0(model_table_cort$dependant_var, ' ~ ', covariate_str, ' + mri_info_device.serial.number')"
   ]
  },
  {
   "cell_type": "code",
   "execution_count": null,
   "metadata": {},
   "outputs": [],
   "source": [
    "model_table_cort = fit_gamm_models(dat=df, model_table=model_table_cort, suffix='_full_samp')"
   ]
  },
  {
   "cell_type": "code",
   "execution_count": null,
   "metadata": {},
   "outputs": [],
   "source": [
    "model_table_cort = fit_gamm_models(dat=df[EUR_ind,], model_table=model_table_cort, suffix='_EUR')"
   ]
  },
  {
   "cell_type": "code",
   "execution_count": null,
   "metadata": {},
   "outputs": [],
   "source": [
    "model_table_cort = fit_gamm_models(dat=df[!EUR_ind,], model_table=model_table_cort, suffix='_non_EUR')"
   ]
  },
  {
   "cell_type": "code",
   "execution_count": 385,
   "metadata": {},
   "outputs": [
    {
     "data": {
      "text/html": [
       "<table>\n",
       "<thead><tr><th scope=col>PS_coeff_full_samp</th><th scope=col>PS_coeff_SE_full_samp</th><th scope=col>upper_full_samp</th><th scope=col>lower_full_samp</th><th scope=col>t_full_samp</th><th scope=col>pval_full_samp</th><th scope=col>r2_delta_full_samp</th><th scope=col>lrt_chisq_full_samp</th><th scope=col>lrt_pval_full_samp</th><th scope=col>anova_full_samp</th><th scope=col>n_full_full_samp</th><th scope=col>n_reduced_full_samp</th></tr></thead>\n",
       "<tbody>\n",
       "\t<tr><td>3.065738e+03</td><td>549.3868111 </td><td>4.142536e+03</td><td>1.988940e+03</td><td>5.580291    </td><td>2.472095e-08</td><td>0.0035132681</td><td>31.266999   </td><td>2.248698e-08</td><td>51          </td><td>8884        </td><td>8884        </td></tr>\n",
       "\t<tr><td>7.157104e-03</td><td>  0.0035713 </td><td>1.415685e-02</td><td>1.573565e-04</td><td>2.004061    </td><td>4.509395e-02</td><td>0.0004588218</td><td> 4.029387   </td><td>4.471418e-02</td><td>51          </td><td>8884        </td><td>8884        </td></tr>\n",
       "</tbody>\n",
       "</table>\n"
      ],
      "text/latex": [
       "\\begin{tabular}{r|llllllllllll}\n",
       " PS\\_coeff\\_full\\_samp & PS\\_coeff\\_SE\\_full\\_samp & upper\\_full\\_samp & lower\\_full\\_samp & t\\_full\\_samp & pval\\_full\\_samp & r2\\_delta\\_full\\_samp & lrt\\_chisq\\_full\\_samp & lrt\\_pval\\_full\\_samp & anova\\_full\\_samp & n\\_full\\_full\\_samp & n\\_reduced\\_full\\_samp\\\\\n",
       "\\hline\n",
       "\t 3.065738e+03 & 549.3868111  & 4.142536e+03 & 1.988940e+03 & 5.580291     & 2.472095e-08 & 0.0035132681 & 31.266999    & 2.248698e-08 & 51           & 8884         & 8884        \\\\\n",
       "\t 7.157104e-03 &   0.0035713  & 1.415685e-02 & 1.573565e-04 & 2.004061     & 4.509395e-02 & 0.0004588218 &  4.029387    & 4.471418e-02 & 51           & 8884         & 8884        \\\\\n",
       "\\end{tabular}\n"
      ],
      "text/markdown": [
       "\n",
       "| PS_coeff_full_samp | PS_coeff_SE_full_samp | upper_full_samp | lower_full_samp | t_full_samp | pval_full_samp | r2_delta_full_samp | lrt_chisq_full_samp | lrt_pval_full_samp | anova_full_samp | n_full_full_samp | n_reduced_full_samp |\n",
       "|---|---|---|---|---|---|---|---|---|---|---|---|\n",
       "| 3.065738e+03 | 549.3868111  | 4.142536e+03 | 1.988940e+03 | 5.580291     | 2.472095e-08 | 0.0035132681 | 31.266999    | 2.248698e-08 | 51           | 8884         | 8884         |\n",
       "| 7.157104e-03 |   0.0035713  | 1.415685e-02 | 1.573565e-04 | 2.004061     | 4.509395e-02 | 0.0004588218 |  4.029387    | 4.471418e-02 | 51           | 8884         | 8884         |\n",
       "\n"
      ],
      "text/plain": [
       "  PS_coeff_full_samp PS_coeff_SE_full_samp upper_full_samp lower_full_samp\n",
       "1 3.065738e+03       549.3868111           4.142536e+03    1.988940e+03   \n",
       "2 7.157104e-03         0.0035713           1.415685e-02    1.573565e-04   \n",
       "  t_full_samp pval_full_samp r2_delta_full_samp lrt_chisq_full_samp\n",
       "1 5.580291    2.472095e-08   0.0035132681       31.266999          \n",
       "2 2.004061    4.509395e-02   0.0004588218        4.029387          \n",
       "  lrt_pval_full_samp anova_full_samp n_full_full_samp n_reduced_full_samp\n",
       "1 2.248698e-08       51              8884             8884               \n",
       "2 4.471418e-02       51              8884             8884               "
      ]
     },
     "metadata": {},
     "output_type": "display_data"
    }
   ],
   "source": [
    "model_table_cort[,endsWith(colnames(model_table_cort), '_full_samp')]"
   ]
  },
  {
   "cell_type": "code",
   "execution_count": 384,
   "metadata": {},
   "outputs": [
    {
     "data": {
      "text/html": [
       "<table>\n",
       "<thead><tr><th scope=col>PS_coeff_EUR</th><th scope=col>PS_coeff_SE_EUR</th><th scope=col>upper_EUR</th><th scope=col>lower_EUR</th><th scope=col>t_EUR</th><th scope=col>pval_EUR</th><th scope=col>r2_delta_EUR</th><th scope=col>lrt_chisq_EUR</th><th scope=col>lrt_pval_EUR</th><th scope=col>anova_EUR</th><th scope=col>n_full_EUR</th><th scope=col>n_reduced_EUR</th></tr></thead>\n",
       "<tbody>\n",
       "\t<tr><td>3739.6292559</td><td>6.903137e+02</td><td>5.092644e+03</td><td>2.386614e+03</td><td>5.417290    </td><td>6.331639e-08</td><td>0.005781617 </td><td>29.565003   </td><td>5.407248e-08</td><td>51          </td><td>5097        </td><td>5097        </td></tr>\n",
       "\t<tr><td>   0.0103389</td><td>4.473859e-03</td><td>1.910767e-02</td><td>1.570140e-03</td><td>2.310959    </td><td>2.087522e-02</td><td>0.001058094 </td><td> 5.396316   </td><td>2.017930e-02</td><td>51          </td><td>5097        </td><td>5097        </td></tr>\n",
       "</tbody>\n",
       "</table>\n"
      ],
      "text/latex": [
       "\\begin{tabular}{r|llllllllllll}\n",
       " PS\\_coeff\\_EUR & PS\\_coeff\\_SE\\_EUR & upper\\_EUR & lower\\_EUR & t\\_EUR & pval\\_EUR & r2\\_delta\\_EUR & lrt\\_chisq\\_EUR & lrt\\_pval\\_EUR & anova\\_EUR & n\\_full\\_EUR & n\\_reduced\\_EUR\\\\\n",
       "\\hline\n",
       "\t 3739.6292559 & 6.903137e+02 & 5.092644e+03 & 2.386614e+03 & 5.417290     & 6.331639e-08 & 0.005781617  & 29.565003    & 5.407248e-08 & 51           & 5097         & 5097        \\\\\n",
       "\t    0.0103389 & 4.473859e-03 & 1.910767e-02 & 1.570140e-03 & 2.310959     & 2.087522e-02 & 0.001058094  &  5.396316    & 2.017930e-02 & 51           & 5097         & 5097        \\\\\n",
       "\\end{tabular}\n"
      ],
      "text/markdown": [
       "\n",
       "| PS_coeff_EUR | PS_coeff_SE_EUR | upper_EUR | lower_EUR | t_EUR | pval_EUR | r2_delta_EUR | lrt_chisq_EUR | lrt_pval_EUR | anova_EUR | n_full_EUR | n_reduced_EUR |\n",
       "|---|---|---|---|---|---|---|---|---|---|---|---|\n",
       "| 3739.6292559 | 6.903137e+02 | 5.092644e+03 | 2.386614e+03 | 5.417290     | 6.331639e-08 | 0.005781617  | 29.565003    | 5.407248e-08 | 51           | 5097         | 5097         |\n",
       "|    0.0103389 | 4.473859e-03 | 1.910767e-02 | 1.570140e-03 | 2.310959     | 2.087522e-02 | 0.001058094  |  5.396316    | 2.017930e-02 | 51           | 5097         | 5097         |\n",
       "\n"
      ],
      "text/plain": [
       "  PS_coeff_EUR PS_coeff_SE_EUR upper_EUR    lower_EUR    t_EUR    pval_EUR    \n",
       "1 3739.6292559 6.903137e+02    5.092644e+03 2.386614e+03 5.417290 6.331639e-08\n",
       "2    0.0103389 4.473859e-03    1.910767e-02 1.570140e-03 2.310959 2.087522e-02\n",
       "  r2_delta_EUR lrt_chisq_EUR lrt_pval_EUR anova_EUR n_full_EUR n_reduced_EUR\n",
       "1 0.005781617  29.565003     5.407248e-08 51        5097       5097         \n",
       "2 0.001058094   5.396316     2.017930e-02 51        5097       5097         "
      ]
     },
     "metadata": {},
     "output_type": "display_data"
    }
   ],
   "source": [
    "model_table_cort[,endsWith(colnames(model_table_cort), 'EUR')]"
   ]
  },
  {
   "cell_type": "code",
   "execution_count": 388,
   "metadata": {},
   "outputs": [
    {
     "data": {
      "text/html": [
       "<table>\n",
       "<thead><tr><th scope=col>PS_coeff_non_EUR</th><th scope=col>PS_coeff_SE_non_EUR</th><th scope=col>upper_non_EUR</th><th scope=col>lower_non_EUR</th><th scope=col>t_non_EUR</th><th scope=col>pval_non_EUR</th><th scope=col>r2_delta_non_EUR</th><th scope=col>lrt_chisq_non_EUR</th><th scope=col>lrt_pval_non_EUR</th><th scope=col>anova_non_EUR</th><th scope=col>n_full_non_EUR</th><th scope=col>n_reduced_non_EUR</th></tr></thead>\n",
       "<tbody>\n",
       "\t<tr><td> 2.258572e+03</td><td>9.385628e+02 </td><td>4.098155e+03 </td><td>418.9885872  </td><td> 2.4064151   </td><td>0.01615818   </td><td>1.548180e-03 </td><td>5.8679609    </td><td>0.0154189    </td><td>51           </td><td>3787         </td><td>3787         </td></tr>\n",
       "\t<tr><td>-2.507849e-03</td><td>6.125024e-03 </td><td>9.497199e-03 </td><td> -0.0145129  </td><td>-0.4094431   </td><td>0.68223795   </td><td>3.524812e-05 </td><td>0.1754288    </td><td>0.6753314    </td><td>51           </td><td>3787         </td><td>3787         </td></tr>\n",
       "</tbody>\n",
       "</table>\n"
      ],
      "text/latex": [
       "\\begin{tabular}{r|llllllllllll}\n",
       " PS\\_coeff\\_non\\_EUR & PS\\_coeff\\_SE\\_non\\_EUR & upper\\_non\\_EUR & lower\\_non\\_EUR & t\\_non\\_EUR & pval\\_non\\_EUR & r2\\_delta\\_non\\_EUR & lrt\\_chisq\\_non\\_EUR & lrt\\_pval\\_non\\_EUR & anova\\_non\\_EUR & n\\_full\\_non\\_EUR & n\\_reduced\\_non\\_EUR\\\\\n",
       "\\hline\n",
       "\t  2.258572e+03 & 9.385628e+02  & 4.098155e+03  & 418.9885872   &  2.4064151    & 0.01615818    & 1.548180e-03  & 5.8679609     & 0.0154189     & 51            & 3787          & 3787         \\\\\n",
       "\t -2.507849e-03 & 6.125024e-03  & 9.497199e-03  &  -0.0145129   & -0.4094431    & 0.68223795    & 3.524812e-05  & 0.1754288     & 0.6753314     & 51            & 3787          & 3787         \\\\\n",
       "\\end{tabular}\n"
      ],
      "text/markdown": [
       "\n",
       "| PS_coeff_non_EUR | PS_coeff_SE_non_EUR | upper_non_EUR | lower_non_EUR | t_non_EUR | pval_non_EUR | r2_delta_non_EUR | lrt_chisq_non_EUR | lrt_pval_non_EUR | anova_non_EUR | n_full_non_EUR | n_reduced_non_EUR |\n",
       "|---|---|---|---|---|---|---|---|---|---|---|---|\n",
       "|  2.258572e+03 | 9.385628e+02  | 4.098155e+03  | 418.9885872   |  2.4064151    | 0.01615818    | 1.548180e-03  | 5.8679609     | 0.0154189     | 51            | 3787          | 3787          |\n",
       "| -2.507849e-03 | 6.125024e-03  | 9.497199e-03  |  -0.0145129   | -0.4094431    | 0.68223795    | 3.524812e-05  | 0.1754288     | 0.6753314     | 51            | 3787          | 3787          |\n",
       "\n"
      ],
      "text/plain": [
       "  PS_coeff_non_EUR PS_coeff_SE_non_EUR upper_non_EUR lower_non_EUR t_non_EUR \n",
       "1  2.258572e+03    9.385628e+02        4.098155e+03  418.9885872    2.4064151\n",
       "2 -2.507849e-03    6.125024e-03        9.497199e-03   -0.0145129   -0.4094431\n",
       "  pval_non_EUR r2_delta_non_EUR lrt_chisq_non_EUR lrt_pval_non_EUR\n",
       "1 0.01615818   1.548180e-03     5.8679609         0.0154189       \n",
       "2 0.68223795   3.524812e-05     0.1754288         0.6753314       \n",
       "  anova_non_EUR n_full_non_EUR n_reduced_non_EUR\n",
       "1 51            3787           3787             \n",
       "2 51            3787           3787             "
      ]
     },
     "metadata": {},
     "output_type": "display_data"
    }
   ],
   "source": [
    "model_table_cort[,endsWith(colnames(model_table_cort), 'non_EUR')]"
   ]
  }
 ],
 "metadata": {
  "kernelspec": {
   "display_name": "R conda",
   "language": "R",
   "name": "ir_conda_351"
  },
  "language_info": {
   "codemirror_mode": "r",
   "file_extension": ".r",
   "mimetype": "text/x-r-source",
   "name": "R",
   "pygments_lexer": "r",
   "version": "3.6.2"
  }
 },
 "nbformat": 4,
 "nbformat_minor": 2
}
